{
 "cells": [
  {
   "cell_type": "markdown",
   "metadata": {},
   "source": [
    "# Simulated Annealing"
   ]
  },
  {
   "cell_type": "markdown",
   "metadata": {},
   "source": [
    "We will be trying to find and visualize the path between Equestrian Statue of Edward VII and Bahen Center of Technology around Toronto University campus using simulated annealing"
   ]
  },
  {
   "cell_type": "code",
   "execution_count": null,
   "metadata": {},
   "outputs": [],
   "source": [
    "%%capture\n",
    "\n",
    "##############################################################################\n",
    "# IGNORE if you are running on a local machine and have all the dependencies #\n",
    "##############################################################################\n",
    "\n",
    "# installing dependencies --- to be able to run on google colab\n",
    "# it would take 2-3 minutes\n",
    "!apt-get install libspatialindex-c4v5;\n",
    "!pip3 install Rtree;\n",
    "!pip3 install osmnx;\n",
    "\n",
    "# you HAVE to upload a number of files and folders used in the code\n",
    "# problem.py - utils.py - data files inside directory named data\n",
    "# upload them in the home directory --- don't go into any folder, just press upload button\n",
    "# and choose these files and folders\n",
    "# so tthe directory should be \n",
    "#|- data/       |- graph.html\n",
    "#|              |- route.html \n",
    "#|- sample_data/ \n",
    "#|- problem.py\n",
    "#|- utils.py"
   ]
  },
  {
   "cell_type": "code",
   "execution_count": null,
   "metadata": {},
   "outputs": [],
   "source": [
    "import osmnx as ox\n",
    "import networkx as nx\n",
    "from IPython.display import IFrame, HTML\n",
    "from collections import deque\n",
    "import matplotlib.pyplot as plt\n",
    "import numpy as np\n",
    "import sys, random\n",
    "from problem import *\n",
    "from utils import *"
   ]
  },
  {
   "cell_type": "code",
   "execution_count": null,
   "metadata": {},
   "outputs": [],
   "source": [
    "location_point = (43.661667, -79.395)\n",
    "G = ox.graph_from_point(location_point, dist=300, clean_periphery=True, simplify=True)\n",
    "graph_map = ox.plot_graph_folium(G, popup_attribute='name', edge_width=2)\n",
    "fig, ax = ox.plot_graph(G)"
   ]
  },
  {
   "cell_type": "code",
   "execution_count": null,
   "metadata": {},
   "outputs": [],
   "source": [
    "# we need to save the graph \n",
    "filepath = 'data/graph.html'\n",
    "graph_map.save(filepath)\n",
    "IFrame(filepath, width=600, height=500)"
   ]
  },
  {
   "cell_type": "code",
   "execution_count": null,
   "metadata": {},
   "outputs": [],
   "source": [
    "# marking both the source and destination node\n",
    "\n",
    "nc = ['r' if node == 389677909 or node == 55808290 else '#336699' for node in G.nodes()]\n",
    "ns = [50 if node == 389677909 or node == 55808290 else 8 for node in G.nodes()]\n",
    "fig, ax = ox.plot_graph(G, node_size=ns, node_color=nc, node_zorder=2)"
   ]
  },
  {
   "cell_type": "code",
   "execution_count": null,
   "metadata": {},
   "outputs": [],
   "source": [
    "%%capture\n",
    "source(Node)"
   ]
  },
  {
   "cell_type": "code",
   "execution_count": null,
   "metadata": {},
   "outputs": [],
   "source": [
    "source(exp_schedule)"
   ]
  },
  {
   "cell_type": "code",
   "execution_count": null,
   "metadata": {},
   "outputs": [],
   "source": [
    "schedule = exp_schedule()\n"
   ]
  },
  {
   "cell_type": "code",
   "execution_count": null,
   "metadata": {},
   "outputs": [],
   "source": [
    "toGoal, _ = Astar_distance(G, 55808290, 389677909)"
   ]
  },
  {
   "cell_type": "code",
   "execution_count": null,
   "metadata": {},
   "outputs": [],
   "source": [
    "origin = Node(graph = G, node = G[55808290], osmid = 55808290, distance = 0, parent = None)\n",
    "destination = Node(graph = G, node = G[389677909], osmid = 389677909)"
   ]
  },
  {
   "cell_type": "code",
   "execution_count": null,
   "metadata": {},
   "outputs": [],
   "source": [
    "states = []\n",
    "explored = set()\n",
    "current = origin\n",
    "for t in range(sys.maxsize):\n",
    "    states.append(current)\n",
    "    T = schedule(t)\n",
    "    if T == 0:\n",
    "        print(states)\n",
    "    neighbors = current.expand()\n",
    "    if not neighbors:\n",
    "        print(states)\n",
    "    next_choice = random.choice(neighbors)\n",
    "    delta_e = toGoal[next_choice.osmid] - toGoal[current.osmid]\n",
    "    if delta_e < 0 or probability(np.exp(delta_e)/T):\n",
    "        current = next_choice"
   ]
  },
  {
   "cell_type": "code",
   "execution_count": null,
   "metadata": {},
   "outputs": [],
   "source": []
  }
 ],
 "metadata": {
  "kernelspec": {
   "display_name": "Python 3",
   "language": "python",
   "name": "python3"
  },
  "language_info": {
   "codemirror_mode": {
    "name": "ipython",
    "version": 3
   },
   "file_extension": ".py",
   "mimetype": "text/x-python",
   "name": "python",
   "nbconvert_exporter": "python",
   "pygments_lexer": "ipython3",
   "version": "3.6.9"
  }
 },
 "nbformat": 4,
 "nbformat_minor": 4
}
