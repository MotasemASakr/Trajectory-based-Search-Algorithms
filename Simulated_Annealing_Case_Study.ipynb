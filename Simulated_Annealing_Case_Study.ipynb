{
 "cells": [
  {
   "cell_type": "code",
   "execution_count": 12,
   "metadata": {},
   "outputs": [],
   "source": [
    "import pandas as pd\n",
    "import math\n",
    "import numpy as np\n",
    "import random\n",
    "import time\n",
    "import matplotlib.pyplot as plt"
   ]
  },
  {
   "cell_type": "code",
   "execution_count": 2,
   "metadata": {},
   "outputs": [],
   "source": [
    "# parameters\n",
    "iteration = 200000   # number of iterations\n",
    "temp = 5   # initial temperature\n",
    "prob_0 = 1   # constant\n",
    "c = 0.999   # used for updating the probability\n",
    "count = 0   # count of the successful solution update"
   ]
  },
  {
   "cell_type": "code",
   "execution_count": 3,
   "metadata": {},
   "outputs": [],
   "source": [
    "# read csv file\n",
    "file_path = './Trip_Matrix.csv'\n",
    "df = pd.read_csv(file_path)\n",
    "df"
   ]
  },
  {
   "cell_type": "code",
   "execution_count": 5,
   "metadata": {},
   "outputs": [],
   "source": [
    "# store the values into a numpy array\n",
    "trip = df.iloc[:, 1:].values"
   ]
  },
  {
   "cell_type": "code",
   "execution_count": 6,
   "metadata": {},
   "outputs": [],
   "source": [
    "# define a function that can compute the fitness value of the solution\n",
    "def cal_fitness_8(m, sol):\n",
    "    M = np.zeros(2)\n",
    "    for i in range(2):\n",
    "        M[i] = m[sol[i]-1,sol[i+1]-1]\n",
    "    N = m[sol[3]-1,sol[4]-1]\n",
    "    O = m[sol[5]-1,sol[6]-1]\n",
    "    P = m[sol[7]-1,sol[8]-1]\n",
    "    Q = m[sol[9]-1,sol[10]-1]\n",
    "    R = m[sol[11]-1,sol[12]-1]\n",
    "    S = m[sol[13]-1,sol[14]-1]\n",
    "    T = m[sol[15]-1,sol[16]-1]\n",
    "    fitness = np.sum(M) + N + O + P + Q + R + S + T\n",
    "    return fitness"
   ]
  },
  {
   "cell_type": "code",
   "execution_count": 7,
   "metadata": {},
   "outputs": [],
   "source": [
    "# create an array to store all individuals\n",
    "sol_hist = np.zeros([iteration+1,17])\n",
    "\n",
    "# create an array to store all fitness values corresponding to the individual\n",
    "fitness_hist = np.zeros(iteration+1)\n",
    "\n",
    "# initialize the fitness array\n",
    "for i in range(iteration+1):\n",
    "    fitness_hist[i] = 99999\n"
   ]
  },
  {
   "cell_type": "code",
   "execution_count": 8,
   "metadata": {},
   "outputs": [],
   "source": [
    "# generate the initial solution\n",
    "initial_sol = np.arange(1,18)\n",
    "random.shuffle(initial_sol)\n",
    "initial_sol = initial_sol.astype(int)"
   ]
  },
  {
   "cell_type": "code",
   "execution_count": 9,
   "metadata": {},
   "outputs": [],
   "source": [
    "# compute the fitness of the initial solution\n",
    "sol_hist[0] = initial_sol\n",
    "fitness_hist[0] = cal_fitness_8(trip, initial_sol)"
   ]
  },
  {
   "cell_type": "code",
   "execution_count": 11,
   "metadata": {},
   "outputs": [],
   "source": [
    "running_time = np.zeros(iteration)\n",
    "best_outputs = []\n",
    "# implementation of simulated annealing\n",
    "for i in range(1,iteration+1):\n",
    "\n",
    "    # record the starting time\n",
    "    start_time = time.time()\n",
    "\n",
    "    # generate new solution\n",
    "    a = random.randint(0,16)\n",
    "    b = random.randint(0,16)\n",
    "    sol_hist[i] = sol_hist[i-1]\n",
    "    sol_hist[i,a] = sol_hist[i-1,b]\n",
    "    sol_hist[i,b] = sol_hist[i-1,a]\n",
    "    sol = sol_hist[i]\n",
    "    sol = sol.astype(int)\n",
    "\n",
    "    # compute the fitness of the new solution\n",
    "    fitness_hist[i] = cal_fitness_8(trip, sol)\n",
    "\n",
    "    if fitness_hist[i] > fitness_hist[i-1]:\n",
    "        count = count + 1\n",
    "        prob = math.exp(-(abs(fitness_hist[i]-fitness_hist[i-1]))/temp)*prob_0\n",
    "        r = np.random.random()\n",
    "        if r > prob:\n",
    "            sol_hist[i] = sol_hist[i-1]\n",
    "\n",
    "    # implementation of adaptive SA using Rechenberg's '1/5 success rule'\n",
    "    if i % 100 == 0:   # implement every 100 iterations\n",
    "        if count/i < 0.2:   # not very successful if true\n",
    "            prob_0 = prob_0*c   # decrease search step in order to achieve exploitation/intensification\n",
    "        if count/i > 0.2:   # too successful if true\n",
    "            prob_0 = prob_0/c   # increase search step in order to achieve exploration/diversification\n",
    "\n",
    "    # update the annealing temperature\n",
    "    temp = temp*0.999\n",
    "\n",
    "    # record the best output for every iteration\n",
    "    best_outputs.append(np.min(fitness_hist))\n",
    "\n",
    "    # compute and store the running time\n",
    "    running_time[i-1] = time.time() - start_time"
   ]
  },
  {
   "cell_type": "code",
   "execution_count": 13,
   "metadata": {},
   "outputs": [
    {
     "name": "stdout",
     "output_type": "stream",
     "text": [
      "The best solution is: [[ 4 17 12  3  7 10  2  9  1  5 16  8 13 11  6 15 14]]\n",
      "The best fitness value is: [20.6]\n"
     ]
    }
   ],
   "source": [
    "# return the index of the solution corresponding to the best fitness\n",
    "best_index = np.where(fitness_hist == np.min(fitness_hist))\n",
    "\n",
    "running_time = running_time.cumsum()\n",
    "\n",
    "print(\"The best solution is:\", sol_hist[best_index].astype(int))\n",
    "print('The best fitness value is:', fitness_hist[best_index])"
   ]
  },
  {
   "cell_type": "code",
   "execution_count": 14,
   "metadata": {},
   "outputs": [
    {
     "data": {
      "image/png": "[encoded data removed]",
      "text/plain": [
       "<Figure size 576x1080 with 2 Axes>"
      ]
     },
     "metadata": {
      "needs_background": "light"
     },
     "output_type": "display_data"
    }
   ],
   "source": [
    "fig, ax = plt.subplots(2, figsize = (8,15))\n",
    "ax[0].plot(best_outputs, 'green')\n",
    "ax[0].set_xlabel(\"Iteration\", fontsize = 10)\n",
    "ax[0].set_ylabel(\"Fitness\", fontsize = 10)\n",
    "ax[0].set_title(\"Adaptive SA (Fitness vs # of iterations)   8 stations\", fontsize = 12)\n",
    "\n",
    "ax[1].plot(running_time, best_outputs, 'red')\n",
    "ax[1].set_xlabel(\"Running time/s\", fontsize = 10)\n",
    "ax[1].set_ylabel(\"Fitness\", fontsize = 10)\n",
    "ax[1].set_title(\"Adaptive SA (Fitness vs Running time)   8 stations\", fontsize = 12)\n",
    "plt.show()"
   ]
  },
  {
   "cell_type": "code",
   "execution_count": null,
   "metadata": {},
   "outputs": [],
   "source": []
  }
 ],
 "metadata": {
  "kernelspec": {
   "display_name": "Python 3",
   "language": "python",
   "name": "python3"
  },
  "language_info": {
   "codemirror_mode": {
    "name": "ipython",
    "version": 3
   },
   "file_extension": ".py",
   "mimetype": "text/x-python",
   "name": "python",
   "nbconvert_exporter": "python",
   "pygments_lexer": "ipython3",
   "version": "3.7.8"
  }
 },
 "nbformat": 4,
 "nbformat_minor": 4
}
