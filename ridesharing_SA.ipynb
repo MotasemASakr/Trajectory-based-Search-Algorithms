{
 "cells": [
  {
   "cell_type": "markdown",
   "metadata": {},
   "source": [
    "**Problem definition:**\\\n",
    "The Drop off ridesharing problem is researched. The problem is formulated into a mathematical model with decision variables, an objective functions and constrains. The simulated annealing (SA) algorithm is implemented to solve this problem. An experiment with the real world data sets is done to test the performance of this algorithm. \n",
    "It is required to generate an optimal schedule for each dropoff to serve the passengers of Toronto in such a way that optimizes at least two of the following criteria, preferably all:\n",
    "\n",
    "• Minimizing the total number of SAVs required.\\\n",
    "• Minimizing the total travel distance/time of SAVs’ trips.\\\n",
    "• Minimizing the total travel time of passengers’ trips.\\\n",
    "• Maximizing the number of matched (served) requests.\\\n",
    "• Minimizing the cost for the SAVs’ trips/loss during uncharged driving\\\n",
    "• Maximizing the SAV's earning/total profit.\\\n",
    "• Minimizing the cost for the passengers’ trips.\\\n",
    "• Minimizing passenger’s waiting time.\\\n",
    "• Balancing the routes of SAV load.\\"
   ]
  },
  {
   "cell_type": "code",
   "execution_count": 1,
   "metadata": {},
   "outputs": [],
   "source": [
    "import pandas as pd\n",
    "import math\n",
    "import numpy as np\n",
    "import random\n",
    "import time\n",
    "import matplotlib.pyplot as plt\n",
    "import osmnx as ox\n",
    "from utilities import *"
   ]
  },
  {
   "cell_type": "code",
   "execution_count": 2,
   "metadata": {},
   "outputs": [
    {
     "data": {
      "text/html": [
       "<div>\n",
       "<style scoped>\n",
       "    .dataframe tbody tr th:only-of-type {\n",
       "        vertical-align: middle;\n",
       "    }\n",
       "\n",
       "    .dataframe tbody tr th {\n",
       "        vertical-align: top;\n",
       "    }\n",
       "\n",
       "    .dataframe thead th {\n",
       "        text-align: right;\n",
       "    }\n",
       "</style>\n",
       "<table border=\"1\" class=\"dataframe\">\n",
       "  <thead>\n",
       "    <tr style=\"text-align: right;\">\n",
       "      <th></th>\n",
       "      <th>Longitude</th>\n",
       "      <th>Latitude</th>\n",
       "      <th>Address</th>\n",
       "    </tr>\n",
       "  </thead>\n",
       "  <tbody>\n",
       "    <tr>\n",
       "      <th>0</th>\n",
       "      <td>-79.389653</td>\n",
       "      <td>43.669624</td>\n",
       "      <td>Bay Station</td>\n",
       "    </tr>\n",
       "    <tr>\n",
       "      <th>1</th>\n",
       "      <td>-79.379568</td>\n",
       "      <td>43.768544</td>\n",
       "      <td>Bessarion Station</td>\n",
       "    </tr>\n",
       "    <tr>\n",
       "      <th>2</th>\n",
       "      <td>-79.368367</td>\n",
       "      <td>43.673658</td>\n",
       "      <td>Castle Frank Station</td>\n",
       "    </tr>\n",
       "    <tr>\n",
       "      <th>3</th>\n",
       "      <td>-79.418020</td>\n",
       "      <td>43.663659</td>\n",
       "      <td>Christie Station</td>\n",
       "    </tr>\n",
       "    <tr>\n",
       "      <th>4</th>\n",
       "      <td>-79.323692</td>\n",
       "      <td>43.683357</td>\n",
       "      <td>Coxwell Station</td>\n",
       "    </tr>\n",
       "    <tr>\n",
       "      <th>5</th>\n",
       "      <td>-79.346952</td>\n",
       "      <td>43.775110</td>\n",
       "      <td>Don Mills Station</td>\n",
       "    </tr>\n",
       "    <tr>\n",
       "      <th>6</th>\n",
       "      <td>-79.462910</td>\n",
       "      <td>43.750348</td>\n",
       "      <td>Downsview Station</td>\n",
       "    </tr>\n",
       "    <tr>\n",
       "      <th>7</th>\n",
       "      <td>-79.380984</td>\n",
       "      <td>43.656363</td>\n",
       "      <td>Dundas Station</td>\n",
       "    </tr>\n",
       "    <tr>\n",
       "      <th>8</th>\n",
       "      <td>-79.407034</td>\n",
       "      <td>43.674731</td>\n",
       "      <td>Dupont Station</td>\n",
       "    </tr>\n",
       "    <tr>\n",
       "      <th>9</th>\n",
       "      <td>-79.415660</td>\n",
       "      <td>43.780174</td>\n",
       "      <td>Finch Station</td>\n",
       "    </tr>\n",
       "    <tr>\n",
       "      <th>10</th>\n",
       "      <td>-79.437718</td>\n",
       "      <td>43.698421</td>\n",
       "      <td>Eglinton West Station</td>\n",
       "    </tr>\n",
       "    <tr>\n",
       "      <th>11</th>\n",
       "      <td>-79.264469</td>\n",
       "      <td>43.732753</td>\n",
       "      <td>Kennedy Station</td>\n",
       "    </tr>\n",
       "    <tr>\n",
       "      <th>12</th>\n",
       "      <td>-79.337468</td>\n",
       "      <td>43.680396</td>\n",
       "      <td>Donlands Station</td>\n",
       "    </tr>\n",
       "    <tr>\n",
       "      <th>13</th>\n",
       "      <td>-79.534879</td>\n",
       "      <td>43.638253</td>\n",
       "      <td>Kipling Station</td>\n",
       "    </tr>\n",
       "    <tr>\n",
       "      <th>14</th>\n",
       "      <td>-79.464369</td>\n",
       "      <td>43.653746</td>\n",
       "      <td>High Park Station</td>\n",
       "    </tr>\n",
       "    <tr>\n",
       "      <th>15</th>\n",
       "      <td>-79.398022</td>\n",
       "      <td>43.704901</td>\n",
       "      <td>Eglinton Station</td>\n",
       "    </tr>\n",
       "  </tbody>\n",
       "</table>\n",
       "</div>"
      ],
      "text/plain": [
       "    Longitude   Latitude                Address\n",
       "0  -79.389653  43.669624           Bay Station \n",
       "1  -79.379568  43.768544     Bessarion Station \n",
       "2  -79.368367  43.673658   Castle Frank Station\n",
       "3  -79.418020  43.663659      Christie Station \n",
       "4  -79.323692  43.683357       Coxwell Station \n",
       "5  -79.346952  43.775110      Don Mills Station\n",
       "6  -79.462910  43.750348     Downsview Station \n",
       "7  -79.380984  43.656363        Dundas Station \n",
       "8  -79.407034  43.674731        Dupont Station \n",
       "9  -79.415660  43.780174         Finch Station \n",
       "10 -79.437718  43.698421  Eglinton West Station\n",
       "11 -79.264469  43.732753       Kennedy Station \n",
       "12 -79.337468  43.680396      Donlands Station \n",
       "13 -79.534879  43.638253       Kipling Station \n",
       "14 -79.464369  43.653746      High Park Station\n",
       "15 -79.398022  43.704901      Eglinton Station "
      ]
     },
     "execution_count": 2,
     "metadata": {},
     "output_type": "execute_result"
    }
   ],
   "source": [
    "# You can use different excel data\n",
    "#file_path = './data/Maven_stations_saved.csv'\n",
    "file_path = './data/Dropoff_locations.csv'\n",
    "df = pd.read_csv(file_path)\n",
    "numberOfStops = len(df)\n",
    "df"
   ]
  },
  {
   "cell_type": "code",
   "execution_count": 3,
   "metadata": {},
   "outputs": [],
   "source": [
    "# store the values into a numpy array\n",
    "addresses  = df.iloc[:, 2].values"
   ]
  },
  {
   "cell_type": "code",
   "execution_count": 4,
   "metadata": {},
   "outputs": [
    {
     "data": {
      "text/plain": [
       "[Name: Bay ID: 25991314,\n",
       " Name: Bessarion ID: 5318484724,\n",
       " Name: Castle Frank Station ID: 432581398,\n",
       " Name: Christie ID: 5262888213,\n",
       " Name: Coxwell Station ID: 7100591226,\n",
       " Name: Don Mills Station ID: 1246332677,\n",
       " Name: Sheppard West ID: 420561530,\n",
       " Name: Dundas ID: 249641649,\n",
       " Name: Dupont ID: 5320349317,\n",
       " Name: (Finch Station) ID: 582990836,\n",
       " Name: Eglinton West Station ID: 6592347255,\n",
       " Name: Kennedy Station ID: 5593394546,\n",
       " Name: Donlands ID: 55639063,\n",
       " Name: Kipling Station ID: 4597249809,\n",
       " Name: High Park Station ID: 2883464892,\n",
       " Name: Eglinton Station ID: 2266180445]"
      ]
     },
     "execution_count": 4,
     "metadata": {},
     "output_type": "execute_result"
    }
   ],
   "source": [
    "POIS = []\n",
    "for address in addresses:\n",
    "    POIS.append(poi(address,\"canada\"))\n",
    "POIS"
   ]
  },
  {
   "cell_type": "code",
   "execution_count": 5,
   "metadata": {},
   "outputs": [
    {
     "data": {
      "application/vnd.jupyter.widget-view+json": {
       "model_id": "d5d7dfb427234a868195717baf9b1354",
       "version_major": 2,
       "version_minor": 0
      },
      "text/plain": [
       "Map(center=[43.67628716875, -79.43114413142783], close_popup_on_click=False, controls=(ZoomControl(options=['p…"
      ]
     },
     "metadata": {},
     "output_type": "display_data"
    }
   ],
   "source": [
    "drawPOIS(POIS, zoom=10)"
   ]
  },
  {
   "cell_type": "code",
   "execution_count": 6,
   "metadata": {},
   "outputs": [],
   "source": [
    "G = nx.DiGraph()\n",
    "G.add_nodes_from(POIS)"
   ]
  },
  {
   "cell_type": "code",
   "execution_count": 7,
   "metadata": {},
   "outputs": [],
   "source": [
    "# this will take 1-2 minutes because you need to find\n",
    "# two routes between each pair of POIs\n",
    "durations = []\n",
    "for source in G.nodes():\n",
    "    duration = []\n",
    "    for destination in G.nodes():\n",
    "        if source == destination: \n",
    "            duration.append(0)\n",
    "            continue\n",
    "        G.add_edge(source, destination, route = source.route_to(destination))\n",
    "        route = source.route_to(destination)\n",
    "        duration.append(route['duration'])\n",
    "    durations.append(duration)"
   ]
  },
  {
   "cell_type": "code",
   "execution_count": 8,
   "metadata": {},
   "outputs": [
    {
     "data": {
      "text/plain": [
       "array([[   0. , 1243.5,  238.3,  306.9,  697.6, 1183.9, 1199.4, 3762. ,\n",
       "         239.3, 1514.5,  730.3, 1347.5,  552.2, 1265.2,  765.1,  544.4],\n",
       "       [1237.4,    0. ,  999.3, 1293.3, 1112.4,  281.2,  689.8, 4108.7,\n",
       "        1250. ,  554.5,  747.6,  952.5, 1023.1, 1624. , 1310.6,  890.1],\n",
       "       [ 238.1, 1095.6,    0. ,  501.8,  459.3,  945.6, 1355.9, 3820.5,\n",
       "         397.2, 1522.1,  886.8, 1109.2,  313.9, 1323.7,  960. ,  656.6],\n",
       "       [ 334.6, 1212.7,  529.7,    0. ,  989. , 1467.6, 1031.3, 3719. ,\n",
       "         225.6, 1545.8,  562.2, 1638.9,  843.6, 1121.7,  497. ,  723. ],\n",
       "       [ 697.4, 1076.9,  459.3,  961.1,    0. ,  926.9, 1575.4, 4021.6,\n",
       "         856.5, 1503.4, 1223.3,  884.7,  170.8, 1524.8, 1275.2, 1049.5],\n",
       "       [1264.2,  249.7, 1026.1, 1435.9, 1139.2,    0. ,  882.1, 4251.3,\n",
       "        1392.6,  768. ,  890.2,  936. , 1049.9, 1766.6, 1453.2, 1032.7],\n",
       "       [1211.8,  677. , 1370.8, 1063.1, 1617.1,  949.1,    0. , 3953.2,\n",
       "        1019.8,  835.9,  517.4, 1457.2, 1527.8, 1468.5, 1137.5,  932.8],\n",
       "       [3753. , 4007.5, 3792.5, 3692.4, 3994.8, 4262.4, 3915.4,    0. ,\n",
       "        3722.1, 4340.6, 3824.3, 4545.2, 3970.8, 3024.1, 3329.6, 4191.8],\n",
       "       [ 224.2, 1164.9,  396.9,  240. ,  856.2, 1317.1, 1004.1, 3766.2,\n",
       "           0. , 1488.2,  535. , 1480.7,  710.8, 1165.9,  603.8,  518.1],\n",
       "       [1507.7,  574.6, 1450.5, 1562.6, 1563.6,  791.9,  832.1, 4378. ,\n",
       "        1507.2,    0. , 1016.9, 1421.8, 1474.3, 1893.3, 1579.9, 1127. ],\n",
       "       [1002.4,  650.5, 1161.4,  853.7, 1508. ,  905.4,  469.1, 3921.5,\n",
       "         810.4,  983.6,    0. , 1353.1, 1370.1, 1373.9,  909.5,  723.4],\n",
       "       [1296.1,  958.5, 1058. , 1559.8,  891. ,  890.8, 1457. , 4617.4,\n",
       "        1455.2, 1385. , 1442.6,    0. , 1020.3, 2120.6, 1871. , 1268.8],\n",
       "       [ 548.7,  993.4,  310.6,  812.4,  174. ,  843.4, 1491.9, 3994.3,\n",
       "         707.8, 1419.9, 1072.5, 1007. ,    0. , 1497.5, 1247.9,  898.7],\n",
       "       [1323.5, 1516.6, 1363. , 1091.8, 1565.3, 1771.5, 1424.5, 2999. ,\n",
       "        1153.1, 1849.7, 1106.2, 2115.7, 1541.3,    0. ,  628.2, 1427.8],\n",
       "       [ 768.2, 1290.8,  963.3,  489.3, 1279.6, 1545.7, 1126.2, 3345.1,\n",
       "         605.8, 1623.9,  657.1, 1830. , 1255.6,  643.9,    0. ,  978.7],\n",
       "       [ 546.5,  871.3,  663. ,  769.7, 1043.7, 1126.2,  897.5, 4262.8,\n",
       "         546. , 1142.3,  428.4, 1509.5,  891.7, 1492. , 1027.6,    0. ]])"
      ]
     },
     "execution_count": 8,
     "metadata": {},
     "output_type": "execute_result"
    }
   ],
   "source": [
    "durations = np.array(durations)\n",
    "durations"
   ]
  },
  {
   "cell_type": "code",
   "execution_count": 9,
   "metadata": {},
   "outputs": [],
   "source": [
    "# Define a function to compute the cost of the solution\n",
    "# It gets you the sum for the solution\n",
    "def cost(m, sol):\n",
    "    M = np.zeros(numberOfStops-1)\n",
    "    for i in range(numberOfStops-1):\n",
    "        M[i] = m[sol[i]-1,sol[i+1]-1]\n",
    "    fitness = np.sum(M)\n",
    "    return fitness"
   ]
  },
  {
   "cell_type": "code",
   "execution_count": 10,
   "metadata": {},
   "outputs": [],
   "source": [
    "# parameters\n",
    "iteration = 200000   # number of iterations\n",
    "temp = 5   # initial temperature"
   ]
  },
  {
   "cell_type": "code",
   "execution_count": 11,
   "metadata": {},
   "outputs": [],
   "source": [
    "# create an array to store all individuals\n",
    "sol_hist = np.zeros([iteration+1,numberOfStops])\n",
    "\n",
    "# create an array to store all fitness values corresponding to the individual\n",
    "fitness_hist = np.zeros(iteration+1)\n",
    "\n",
    "# initialize the fitness array\n",
    "for i in range(iteration+1):\n",
    "    fitness_hist[i] = 99999"
   ]
  },
  {
   "cell_type": "code",
   "execution_count": 12,
   "metadata": {},
   "outputs": [],
   "source": [
    "# generate the initial solution\n",
    "initial_sol = np.arange(1,numberOfStops+1)\n",
    "random.shuffle(initial_sol)\n",
    "initial_sol = initial_sol.astype(int)"
   ]
  },
  {
   "cell_type": "code",
   "execution_count": 13,
   "metadata": {},
   "outputs": [],
   "source": [
    "# compute the fitness of the initial solution\n",
    "sol_hist[0] = initial_sol\n",
    "fitness_hist[0] = cost(durations, initial_sol)"
   ]
  },
  {
   "cell_type": "code",
   "execution_count": 14,
   "metadata": {},
   "outputs": [],
   "source": [
    "running_time = np.zeros(iteration)\n",
    "best_outputs = []\n",
    "# implementation of simulated annealing\n",
    "# implementation of simulated annealing\n",
    "for i in range(1,iteration+1):\n",
    "\n",
    "    # record the starting time\n",
    "    start_time = time.time()\n",
    "\n",
    "    # generate new solution\n",
    "    a = random.randint(0,numberOfStops-1)\n",
    "    b = random.randint(0,numberOfStops-1)\n",
    "    sol_hist[i] = sol_hist[i-1]\n",
    "    sol_hist[i,a] = sol_hist[i-1,b]\n",
    "    sol_hist[i,b] = sol_hist[i-1,a]\n",
    "    sol = sol_hist[i]\n",
    "    sol = sol.astype(int)\n",
    "\n",
    "    # compute the fitness of the new solution\n",
    "    fitness_hist[i] = cost(durations, sol)\n",
    "\n",
    "    if fitness_hist[i] > fitness_hist[i-1]:\n",
    "        prob = math.exp(-(abs(fitness_hist[i]-fitness_hist[i-1]))/temp)\n",
    "        r = np.random.random()\n",
    "        if r > prob:\n",
    "            sol_hist[i] = sol_hist[i-1]\n",
    "\n",
    "    # update the annealing temperature\n",
    "    temp = temp*0.999\n",
    "\n",
    "    # record the best output for every iteration\n",
    "    best_outputs.append(np.min(fitness_hist))\n",
    "\n",
    "    # compute and store the running time\n",
    "    running_time[i-1] = time.time() - start_time\n"
   ]
  },
  {
   "cell_type": "code",
   "execution_count": 15,
   "metadata": {},
   "outputs": [
    {
     "name": "stdout",
     "output_type": "stream",
     "text": [
      "The best solution is: [[ 8 14 15 11  7 10  2 12  6 13  5  9 16  3  4  1]]\n",
      "The best fitness value is: [12130.2]\n",
      "The algorithm converges in 165459 iterations.\n",
      "The algorithm converges in 23.371765851974487 seconds.\n"
     ]
    }
   ],
   "source": [
    "# return the index of the solution corresponding to the best fitness\n",
    "best_index = np.where(fitness_hist == np.min(fitness_hist))\n",
    "\n",
    "running_time = running_time.cumsum()\n",
    "\n",
    "# to get the index of iteration when the fitness reaches its minimum value (convergence point of the algorithm)\n",
    "convergence_index = np.where(best_outputs == np.min(best_outputs))\n",
    "convergence_time = running_time[convergence_index]\n",
    "\n",
    "print(\"The best solution is:\", sol_hist[best_index].astype(int))\n",
    "print('The best fitness value is:', fitness_hist[best_index])\n",
    "print(\"The algorithm converges in\", np.min(convergence_index), \"iterations.\")\n",
    "print(\"The algorithm converges in\", np.min(convergence_time), \"seconds.\")\n"
   ]
  },
  {
   "cell_type": "code",
   "execution_count": 16,
   "metadata": {},
   "outputs": [
    {
     "data": {
      "image/png": "[encoded data removed]",
      "text/plain": [
       "<Figure size 576x1080 with 2 Axes>"
      ]
     },
     "metadata": {
      "needs_background": "light"
     },
     "output_type": "display_data"
    }
   ],
   "source": [
    "fig, ax = plt.subplots(2, figsize = (8,15))\n",
    "ax[0].plot(best_outputs, 'green')\n",
    "ax[0].set_xlabel(\"Iteration\", fontsize = 10)\n",
    "ax[0].set_ylabel(\"Cost\", fontsize = 10)\n",
    "ax[0].set_title(\"SA (Fitness vs # of iterations)   1 station\", fontsize = 12)\n",
    "\n",
    "ax[1].plot(running_time, best_outputs, 'red')\n",
    "ax[1].set_xlabel(\"Running time/s\", fontsize = 10)\n",
    "ax[1].set_ylabel(\"Fitness\", fontsize = 10)\n",
    "ax[1].set_title(\"SA (Fitness vs Running time)   1 station\", fontsize = 12)\n",
    "plt.show()"
   ]
  },
  {
   "cell_type": "code",
   "execution_count": 18,
   "metadata": {},
   "outputs": [
    {
     "data": {
      "application/vnd.jupyter.widget-view+json": {
       "model_id": "20afbaa606bd4f88bd4f1ba8973468d8",
       "version_major": 2,
       "version_minor": 0
      },
      "text/plain": [
       "Map(center=[43.663972, -79.418573], controls=(ZoomControl(options=['position', 'zoom_in_text', 'zoom_in_title'…"
      ]
     },
     "metadata": {},
     "output_type": "display_data"
    }
   ],
   "source": [
    "#Visualization\n",
    "optimalRoute = sol_hist[best_index].astype(int)-1\n",
    "optimalRoute = optimalRoute[0]\n",
    "optimalRoute\n",
    "currentRoute = G[POIS[optimalRoute[0]]][POIS[optimalRoute[1]]]['route']['coords']\n",
    "for i in range(1,len(optimalRoute)-1):\n",
    "    currentRoute += G[POIS[optimalRoute[i]]][POIS[optimalRoute[i+1]]]['route']['coords']\n",
    "drawRoute(currentRoute)"
   ]
  },
  {
   "cell_type": "code",
   "execution_count": null,
   "metadata": {},
   "outputs": [],
   "source": []
  }
 ],
 "metadata": {
  "kernelspec": {
   "display_name": "Python 3",
   "language": "python",
   "name": "python3"
  },
  "language_info": {
   "codemirror_mode": {
    "name": "ipython",
    "version": 3
   },
   "file_extension": ".py",
   "mimetype": "text/x-python",
   "name": "python",
   "nbconvert_exporter": "python",
   "pygments_lexer": "ipython3",
   "version": "3.6.9"
  }
 },
 "nbformat": 4,
 "nbformat_minor": 4
}
