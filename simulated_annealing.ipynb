{
 "cells": [
  {
   "cell_type": "markdown",
   "metadata": {},
   "source": [
    "# Simulated Annealing"
   ]
  },
  {
   "cell_type": "markdown",
   "metadata": {},
   "source": [
    "We will be trying to find and visualize the path between Equestrian Statue of Edward VII and Bahen Center of Technology around Toronto University campus using simulated annealing"
   ]
  },
  {
   "cell_type": "markdown",
   "metadata": {},
   "source": [
    "__SIMULATED-ANNEALING__(_source_ , _destination_ , _schedule_ , _num of iterations_ ) __returns__ a route  \n",
    "&emsp;_current_ &larr; random-route between _source_ and _destination_  \n",
    "&emsp;__for__ _num of iterations_ __do__    \n",
    "&emsp;&emsp; _T_ &larr; _schedule(t)_  \n",
    "&emsp;&emsp; _neighbors_ &larr; _current_.NEIGHBOURS  \n",
    "&emsp;&emsp; _next_ &larr; randomly choose one state from _neighbors_  \n",
    "&emsp;&emsp; _$\\Delta$_ _E_ &larr; _next_._COST_ - _current_._COST_  \n",
    "&emsp;&emsp; __if__ _$\\Delta$_ _E_ &lt; 0 __then__ _current_ &larr; _next_    \n",
    "&emsp;&emsp; __else__ _current_ &larr; _next_ only with probability of ${e}^{-\\frac{\\Delta E}{T}}$  \n",
    "&emsp;__endfor__  \n",
    "&emsp; _route_ &larr; _current_  \n",
    "&emsp; __return__ _route_"
   ]
  },
  {
   "cell_type": "code",
   "execution_count": null,
   "metadata": {},
   "outputs": [],
   "source": [
    "import osmnx as ox\n",
    "import time, itertools\n",
    "from tqdm import tqdm\n",
    "from utilities import *"
   ]
  },
  {
   "cell_type": "code",
   "execution_count": null,
   "metadata": {},
   "outputs": [],
   "source": [
    "location_point = (43.661667, -79.395)\n",
    "G = ox.graph_from_point(location_point, dist=300, clean_periphery=True, simplify=True)\n",
    "fig, ax = ox.plot_graph(G)"
   ]
  },
  {
   "cell_type": "markdown",
   "metadata": {},
   "source": [
    "Here you need to specify which node from our graph is the source (Equestrian Statue of Edward VII) and which is the destination node (Bahen Center of Technology). You can do so by acquiring the decimal coordinates of the desired node and use [```osmnx.distance.get_nearest_node```](https://osmnx.readthedocs.io/en/stable/osmnx.html#osmnx.distance.get_nearest_node) method"
   ]
  },
  {
   "cell_type": "markdown",
   "metadata": {},
   "source": [
    "I used the aforementioned method and found that the nodes for destination and source are 389677909, 55808290 respectively"
   ]
  },
  {
   "cell_type": "code",
   "execution_count": null,
   "metadata": {},
   "outputs": [],
   "source": [
    "highlighted = [389677909, 55808290]\n",
    "\n",
    "# marking both the source and destination node\n",
    "\n",
    "nc = ['r' if node in highlighted else '#336699' for node in G.nodes()]\n",
    "ns = [50 if node in highlighted else 8 for node in G.nodes()]\n",
    "fig, ax = ox.plot_graph(G, node_size=ns, node_color=nc, node_zorder=2)"
   ]
  },
  {
   "cell_type": "code",
   "execution_count": null,
   "metadata": {},
   "outputs": [],
   "source": [
    "draw_map(G, highlight = highlighted)"
   ]
  },
  {
   "cell_type": "code",
   "execution_count": null,
   "metadata": {},
   "outputs": [],
   "source": [
    "%%capture\n",
    "source(Node)"
   ]
  },
  {
   "cell_type": "markdown",
   "metadata": {},
   "source": [
    "We need to generate a random paths from source and destination to be the starting state in simulated annealing. The following algorithm is just a variant of the typical graph search but instead of choosing the node to be expanded based on a certain policy like bfs/dfs, we just choose the node randomly from the frontier."
   ]
  },
  {
   "cell_type": "code",
   "execution_count": null,
   "metadata": {},
   "outputs": [],
   "source": [
    "source(randomized_search)"
   ]
  },
  {
   "cell_type": "markdown",
   "metadata": {},
   "source": [
    "The default of the schedule function is that the initial temperature is 20 and it gets terminated after 100 unit time."
   ]
  },
  {
   "cell_type": "code",
   "execution_count": null,
   "metadata": {},
   "outputs": [],
   "source": [
    "source(exp_schedule)"
   ]
  },
  {
   "cell_type": "code",
   "execution_count": null,
   "metadata": {},
   "outputs": [],
   "source": [
    "schedule = exp_schedule(200, 0.05, 10000)"
   ]
  },
  {
   "cell_type": "markdown",
   "metadata": {},
   "source": [
    "This will take about 10 minutes to run, because generating children for a route is a bit computationally expensive."
   ]
  },
  {
   "cell_type": "code",
   "execution_count": null,
   "metadata": {},
   "outputs": [],
   "source": [
    "num_of_iterations = 100"
   ]
  },
  {
   "cell_type": "code",
   "execution_count": null,
   "metadata": {
    "scrolled": true
   },
   "outputs": [],
   "source": [
    "%%time\n",
    "states = []\n",
    "current = randomized_search(G, 55808290, 389677909)\n",
    "\n",
    "# \n",
    "for t in tqdm(range(num_of_iterations)):\n",
    "    T = schedule(t)\n",
    "    states.append(cost(G, current))\n",
    "    \n",
    "    # generate 5 more paths to choose from\n",
    "    neighbors = [*itertools.islice(children_route(G, current), 100)]\n",
    "    next_choice = random.choice(neighbors)\n",
    "    \n",
    "    delta_e = cost(G, next_choice) - cost(G, current)  \n",
    "    if delta_e < 0 or probability(np.exp(-1 * delta_e/T)):\n",
    "        current = next_choice\n",
    "        \n",
    "    print(cost(G, current))\n",
    "route = current"
   ]
  },
  {
   "cell_type": "code",
   "execution_count": null,
   "metadata": {},
   "outputs": [],
   "source": [
    "cost(G, route)"
   ]
  },
  {
   "cell_type": "markdown",
   "metadata": {},
   "source": [
    "Remember that the optimal cost for the route is 801.4639999999999  \n",
    "\n",
    "You should get 830-ish as the cost of the route between source and destination without any tuning of the schedule function."
   ]
  },
  {
   "cell_type": "code",
   "execution_count": null,
   "metadata": {},
   "outputs": [],
   "source": [
    "fig, ax = ox.plot_graph_route(G, current)"
   ]
  },
  {
   "cell_type": "code",
   "execution_count": null,
   "metadata": {},
   "outputs": [],
   "source": [
    "draw_route(G, route)"
   ]
  },
  {
   "cell_type": "code",
   "execution_count": null,
   "metadata": {},
   "outputs": [],
   "source": [
    "import matplotlib.pyplot as plt\n",
    "plt.xlabel(\"# iterations\")\n",
    "plt.ylabel(\"cost (meters)\")\n",
    "plt.plot(states)\n",
    "plt.show()"
   ]
  },
  {
   "cell_type": "code",
   "execution_count": null,
   "metadata": {},
   "outputs": [],
   "source": []
  }
 ],
 "metadata": {
  "kernelspec": {
   "display_name": "Python 3",
   "language": "python",
   "name": "python3"
  },
  "language_info": {
   "codemirror_mode": {
    "name": "ipython",
    "version": 3
   },
   "file_extension": ".py",
   "mimetype": "text/x-python",
   "name": "python",
   "nbconvert_exporter": "python",
   "pygments_lexer": "ipython3",
   "version": "3.8.5"
  }
 },
 "nbformat": 4,
 "nbformat_minor": 4
}
